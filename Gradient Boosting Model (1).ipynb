{
 "cells": [
  {
   "cell_type": "markdown",
   "id": "5dacfa43-8584-4950-a4c8-463e88f6a92c",
   "metadata": {},
   "source": [
    "Gradient Boosting"
   ]
  },
  {
   "cell_type": "code",
   "execution_count": 21,
   "id": "b1a420d6-d49c-45ec-bc45-e9d76bc9723b",
   "metadata": {},
   "outputs": [],
   "source": [
    "import numpy as np\n",
    "import sys\n",
    "import pandas as pd\n",
    "import matplotlib.pyplot as plt\n",
    "import seaborn as sns"
   ]
  },
  {
   "cell_type": "code",
   "execution_count": null,
   "id": "c171541e-41d5-4baf-9468-0efb9c116bd0",
   "metadata": {},
   "outputs": [],
   "source": [
    "db = pd.read_csv(\"/Users/vedantg/Downloads/diabetes(1).csv\")\n",
    "db.head()"
   ]
  },
  {
   "cell_type": "code",
   "execution_count": null,
   "id": "4825a83f-ea14-4096-82bc-3024252fd40a",
   "metadata": {},
   "outputs": [],
   "source": [
    "db = db.drop_duplicates(keep='first', ignore_index=True)\n",
    "db.isna().any()"
   ]
  },
  {
   "cell_type": "code",
   "execution_count": null,
   "id": "7bcdf98b-15c0-41ed-af99-2285e0b2ef0f",
   "metadata": {},
   "outputs": [],
   "source": [
    "#shape of the dataset\n",
    "db.shape"
   ]
  },
  {
   "cell_type": "code",
   "execution_count": null,
   "id": "b9fde06f-da0b-4a60-960d-e2c7abbcbe9c",
   "metadata": {},
   "outputs": [],
   "source": [
    "counts = db['Outcome'].value_counts()\n",
    "print(counts)\n",
    "counts.sort_index().plot(kind='barh', xlabel=\"Counts\")\n",
    "plt.title(\"Bar Plot of Outcome Variable Counts\")"
   ]
  },
  {
   "cell_type": "code",
   "execution_count": null,
   "id": "59f91f32-7fd5-493b-8e9e-765cb3eee87f",
   "metadata": {},
   "outputs": [],
   "source": [
    "#checking unique values\n",
    "variables = ['Pregnancies','Glucose','BloodPressure','SkinThickness','Insulin','BMI','DiabetesPedigreeFunction','Age','Outcome']\n",
    "for i in variables:\n",
    "    print(db[i].unique())"
   ]
  },
  {
   "cell_type": "code",
   "execution_count": null,
   "id": "6fb8d60b-7f94-4e90-869c-96175bb56089",
   "metadata": {},
   "outputs": [],
   "source": [
    "##checking 0 values per predictor\n",
    "\n",
    "variables = ['Glucose','BloodPressure','SkinThickness','Insulin','BMI','DiabetesPedigreeFunction','Age']\n",
    "for i in variables:\n",
    "    c = 0\n",
    "    for x in (db[i]):\n",
    "        if x == 0:\n",
    "            c = c + 1\n",
    "    print(i,c)"
   ]
  },
  {
   "cell_type": "code",
   "execution_count": null,
   "id": "e6e5261d-d24c-47c8-b5b3-6b52b037d7ea",
   "metadata": {},
   "outputs": [],
   "source": [
    "#replacing the missing values with the mean\n",
    "variables = ['Glucose','BloodPressure','SkinThickness','Insulin','BMI']\n",
    "for i in variables:\n",
    "    db[i].replace(0,db[i].mean(),inplace=True)\n",
    "\n",
    "#checking to make sure that incorrect values are replace\n",
    "for i in variables:\n",
    "    c = 0\n",
    "    for x in (db[i]):\n",
    "        if x == 0:\n",
    "            c = c + 1\n",
    "    print(i,c)"
   ]
  },
  {
   "cell_type": "code",
   "execution_count": null,
   "id": "c8700f5b-815b-462c-a6c6-eb34d34f9dea",
   "metadata": {},
   "outputs": [],
   "source": [
    "#missing values\n",
    "db.info()"
   ]
  },
  {
   "cell_type": "code",
   "execution_count": null,
   "id": "6f05edcc-c484-405c-9a48-e3a338acf0d8",
   "metadata": {},
   "outputs": [],
   "source": [
    "#checking descriptive statistics\n",
    "db.describe()"
   ]
  },
  {
   "cell_type": "code",
   "execution_count": null,
   "id": "b2bc70f3-4130-4dbb-8f0b-3ca1aebb3ceb",
   "metadata": {},
   "outputs": [],
   "source": [
    "db.head()"
   ]
  },
  {
   "cell_type": "markdown",
   "id": "666a24eb-a17f-49d3-9a8d-33da42138795",
   "metadata": {},
   "source": [
    "EDA"
   ]
  },
  {
   "cell_type": "code",
   "execution_count": null,
   "id": "a89e76c3-fa44-4414-9bc1-3e2169340a9c",
   "metadata": {},
   "outputs": [],
   "source": [
    "sns.catplot(x=\"Outcome\", y=\"Age\", kind=\"swarm\", data=db)"
   ]
  },
  {
   "cell_type": "markdown",
   "id": "282152ba-1d10-40e3-85a4-74679941a168",
   "metadata": {},
   "source": [
    "people aged 20-30 are least susceptible to diabetes"
   ]
  },
  {
   "cell_type": "code",
   "execution_count": null,
   "id": "a21f4be5-da05-4a5e-8aba-408675244d29",
   "metadata": {},
   "outputs": [],
   "source": [
    "fig,ax = plt.subplots(1,2,figsize=(15,5))\n",
    "sns.boxplot(x='Outcome',y='Pregnancies',data=db,ax=ax[0], color='red')\n",
    "sns.violinplot(x='Outcome',y='Pregnancies',data=db,ax=ax[1])"
   ]
  },
  {
   "cell_type": "code",
   "execution_count": null,
   "id": "b5633ecd-3728-4503-b36a-4ae4383dad46",
   "metadata": {},
   "outputs": [],
   "source": [
    "sns.boxplot(x='Outcome', y='Glucose', data=db).set_title('Glucose vs Diabetes')"
   ]
  },
  {
   "cell_type": "code",
   "execution_count": null,
   "id": "90b4edb2-0a68-478c-b3b4-3c919fae772a",
   "metadata": {},
   "outputs": [],
   "source": [
    "from sklearn.model_selection import train_test_split\n",
    "from sklearn.metrics import classification_report, confusion_matrix, mean_squared_error\n",
    "from sklearn.ensemble import GradientBoostingClassifier\n",
    "from sklearn.preprocessing import MinMaxScaler\n",
    "from sklearn.model_selection import learning_curve\n",
    "from sklearn.metrics import roc_curve, roc_auc_score"
   ]
  },
  {
   "cell_type": "markdown",
   "id": "99deecde-552a-45b6-ba88-15c7753c724a",
   "metadata": {},
   "source": [
    "Data Integration"
   ]
  },
  {
   "cell_type": "code",
   "execution_count": null,
   "id": "ca3a78c9-3b32-4b9b-b563-21076d95f74a",
   "metadata": {},
   "outputs": [],
   "source": [
    "# sorting data & predictors\n",
    "# load/prepare data\n",
    "db = pd.read_csv(\"diabetes_012_health_indicators_BRFSS2015.csv\")\n",
    "db.drop_duplicates(inplace = True)"
   ]
  },
  {
   "cell_type": "code",
   "execution_count": null,
   "id": "3b60c2e7-80f1-45eb-a50f-438a66641a6c",
   "metadata": {},
   "outputs": [],
   "source": [
    "db = db[db[\"Diabetes_012\"] != 1] # drop prediabetes\n",
    "db['Diabetes_012'] = db['Diabetes_012'].replace(2,1)\n",
    "\n",
    "# balancing database\n",
    "i_keep_0 = db[db['Diabetes_012'] == 0].sample(n = db['Diabetes_012'].value_counts()[1],\n",
    "                                   replace=False,\n",
    "                                   random_state = 1).index\n",
    "\n",
    "i_keep_all = db[db['Diabetes_012'] == 1].index.append(i_keep_0).sort_values()\n",
    "\n",
    "db = db.loc[i_keep_all].reset_index(drop=True)"
   ]
  },
  {
   "cell_type": "code",
   "execution_count": null,
   "id": "2624f53f-597b-408e-bed4-75b19e1bfa31",
   "metadata": {},
   "outputs": [],
   "source": [
    "# subsetting predictors\n",
    "db_main = db[['Diabetes_012', 'BMI', 'HighBP', 'HighChol', 'Sex', 'Age']]"
   ]
  },
  {
   "cell_type": "markdown",
   "id": "172693d5-a01c-4c89-892a-2cced2ffecfe",
   "metadata": {},
   "source": [
    "Model Building"
   ]
  },
  {
   "cell_type": "code",
   "execution_count": null,
   "id": "a6bdb1cb-a60b-4677-af0c-4bc278f4bd1b",
   "metadata": {},
   "outputs": [],
   "source": [
    "x = db_main.drop('Diabetes_012', axis = 1)\n",
    "\n",
    "scaler = MinMaxScaler(feature_range = (0, 1))\n",
    "xresc = scaler.fit_transform(x)\n",
    "x = pd.DataFrame(data = xresc, columns = x.columns)\n",
    "\n",
    "y = db_main['Diabetes_012']\n",
    "\n",
    "xtrain, xtest, ytrain, ytest = train_test_split(x, y, test_size = 0.1, random_state = 1)"
   ]
  },
  {
   "cell_type": "code",
   "execution_count": null,
   "id": "59e5bb8e-e52a-492c-990d-4025ba3301e3",
   "metadata": {},
   "outputs": [],
   "source": [
    "gb_clf = GradientBoostingClassifier(n_estimators = 120, learning_rate = 0.22, \n",
    "                                    max_depth = 3, seed = 1)\n",
    "gb_clf.fit(xtrain, ytrain)"
   ]
  },
  {
   "cell_type": "code",
   "execution_count": null,
   "id": "9c71d5ad-996c-4ebe-b735-7cdefbfbe3bf",
   "metadata": {},
   "outputs": [],
   "source": [
    "pred = gb_clf.predict(xtest)"
   ]
  },
  {
   "cell_type": "code",
   "execution_count": null,
   "id": "10c6d9ac-9009-478f-a86d-e2800ae50f72",
   "metadata": {},
   "outputs": [],
   "source": [
    "print(f'Training MSE: {round(mean_squared_error(gb_clf.predict(xtrain), ytrain), 4)}')\n",
    "print(f'Testing MSE: {round(mean_squared_error(pred, ytest), 4)}')"
   ]
  },
  {
   "cell_type": "code",
   "execution_count": null,
   "id": "8d731761-71be-4b76-8189-96e83e721f1a",
   "metadata": {},
   "outputs": [],
   "source": [
    "print(classification_report(ytest, pred,\n",
    "                            digits = 4,\n",
    "                            target_names = [\"No Diabetes\", \"Diabetes\"],\n",
    "                            zero_division = 1))"
   ]
  },
  {
   "cell_type": "code",
   "execution_count": null,
   "id": "2001643e-1da0-4c55-a173-5c341bd3bc1a",
   "metadata": {},
   "outputs": [],
   "source": [
    "cm = confusion_matrix(ytest, pred)\n",
    "sns.heatmap(cm, annot = True, fmt = \"d\", cmap = \"Blues\")\n",
    "plt.title('Confusion Matrix')\n",
    "plt.xlabel('Predicted')\n",
    "plt.ylabel('Actual')\n",
    "plt.show()"
   ]
  },
  {
   "cell_type": "markdown",
   "id": "807b09f9-0998-4e3b-99dc-4302e94b06f2",
   "metadata": {},
   "source": [
    "Learning Curve"
   ]
  },
  {
   "cell_type": "code",
   "execution_count": null,
   "id": "727b79b9-8d5b-4c08-91bc-ac08f61329d0",
   "metadata": {},
   "outputs": [],
   "source": [
    "train_sizes, train_scores, valid_scores = learning_curve(gb_clf, x, y, train_sizes=np.linspace(0.1, 1.0, 10), cv=5)\n",
    "train_scores_mean = np.mean(train_scores, axis=1)\n",
    "train_scores_std = np.std(train_scores, axis=1)\n",
    "valid_scores_mean = np.mean(valid_scores, axis=1)\n",
    "valid_scores_std = np.std(valid_scores, axis=1)\n",
    "\n",
    "plt.figure(figsize=(10, 6))\n",
    "plt.fill_between(train_sizes, train_scores_mean - train_scores_std, train_scores_mean + train_scores_std, alpha=0.1, color=\"r\")\n",
    "plt.fill_between(train_sizes, valid_scores_mean - valid_scores_std, valid_scores_mean + valid_scores_std, alpha=0.1, color=\"g\")\n",
    "plt.plot(train_sizes, train_scores_mean, 'o-', color=\"r\", label=\"Training score\")\n",
    "plt.plot(train_sizes, valid_scores_mean, 'o-', color=\"g\", label=\"Cross-validation score\")\n",
    "plt.title(\"Learning Curves\")\n",
    "plt.xlabel(\"Training Examples\")\n",
    "plt.ylabel(\"Score\")\n",
    "plt.legend(loc=\"best\")\n",
    "plt.grid()\n",
    "plt.show()"
   ]
  },
  {
   "cell_type": "code",
   "execution_count": null,
   "id": "3670df56-0672-45b9-b408-35064218a058",
   "metadata": {},
   "outputs": [],
   "source": [
    "ROC Curve"
   ]
  },
  {
   "cell_type": "code",
   "execution_count": null,
   "id": "aba76e38-9874-4608-b56b-fed8edd0bc2b",
   "metadata": {},
   "outputs": [],
   "source": [
    "# class 1, prediction of probabilities\n",
    "probs = gb_clf.predict_proba(xtest)[:, 1]\n",
    "\n",
    "# ROC curve calculations\n",
    "fpr, tpr, thresholds = roc_curve(ytest, probs)\n",
    "\n",
    "# ROC curve plotting\n",
    "plt.figure(figsize=(8, 6))\n",
    "plt.plot(fpr, tpr, color='blue', lw=2, label='ROC curve (AUC = %0.2f)' % roc_auc_score(ytest, probs))\n",
    "plt.plot([0, 1], [0, 1], color='red', lw=2, linestyle='--')\n",
    "plt.xlim([0.0, 1.0])\n",
    "plt.ylim([0.0, 1.05])\n",
    "plt.xlabel('False Positive Rate')\n",
    "plt.ylabel('True Positive Rate')\n",
    "plt.title('Receiver Operating Characteristic (ROC) Curve')\n",
    "plt.legend(loc=\"lower right\")\n",
    "plt.show()"
   ]
  }
 ],
 "metadata": {
  "kernelspec": {
   "display_name": "Python 3 (ipykernel)",
   "language": "python",
   "name": "python3"
  },
  "language_info": {
   "codemirror_mode": {
    "name": "ipython",
    "version": 3
   },
   "file_extension": ".py",
   "mimetype": "text/x-python",
   "name": "python",
   "nbconvert_exporter": "python",
   "pygments_lexer": "ipython3",
   "version": "3.12.3"
  }
 },
 "nbformat": 4,
 "nbformat_minor": 5
}
