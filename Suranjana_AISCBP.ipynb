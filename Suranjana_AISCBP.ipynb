{
 "cells": [
  {
   "cell_type": "code",
   "execution_count": null,
   "id": "0a7299eb-f63f-4bff-a511-87d9af3a608b",
   "metadata": {},
   "outputs": [],
   "source": [
    "import pandas as pd\n",
    "import matplotlib.pyplot as plt\n",
    "import seaborn as sns\n",
    "import numpy as np"
   ]
  },
  {
   "cell_type": "code",
   "execution_count": null,
   "id": "b7ce3b29-3879-45fb-8264-494677e82440",
   "metadata": {},
   "outputs": [],
   "source": [
    "db = pd.read_csv(\"./diabetes(1).csv\")\n",
    "db.head()"
   ]
  },
  {
   "cell_type": "code",
   "execution_count": null,
   "id": "95d31713-2ff7-44a2-a6da-02dc92d10ca5",
   "metadata": {},
   "outputs": [],
   "source": [
    "db = db.drop_duplicates(keep='first', ignore_index=True)\n",
    "db.isna().any()"
   ]
  },
  {
   "cell_type": "code",
   "execution_count": null,
   "id": "a8375c23-10fb-4158-a010-e906f7a60ab4",
   "metadata": {},
   "outputs": [],
   "source": [
    "counts = db['Outcome'].value_counts()\n",
    "print(counts)\n",
    "counts.sort_index().plot(kind='barh', xlabel=\"Counts\")\n",
    "plt.title(\"Bar Plot of Outcome Variable Counts\")"
   ]
  },
  {
   "cell_type": "code",
   "execution_count": null,
   "id": "89215894-380f-4793-87ea-5852069df5d3",
   "metadata": {},
   "outputs": [],
   "source": [
    "#checking unique values\n",
    "variables = ['Pregnancies','Glucose','BloodPressure','SkinThickness','Insulin','BMI','DiabetesPedigreeFunction','Age','Outcome']\n",
    "for i in variables:\n",
    "    print(db[i].unique())"
   ]
  },
  {
   "cell_type": "code",
   "execution_count": null,
   "id": "640c2871-ec41-4e08-8324-9a210625d63c",
   "metadata": {},
   "outputs": [],
   "source": [
    "##checking 0 values per predictor\n",
    "\n",
    "variables = ['Glucose','BloodPressure','SkinThickness','Insulin','BMI','DiabetesPedigreeFunction','Age']\n",
    "for i in variables:\n",
    "    c = 0\n",
    "    for x in (db[i]):\n",
    "        if x == 0:\n",
    "            c = c + 1\n",
    "    print(i,c)"
   ]
  },
  {
   "cell_type": "code",
   "execution_count": null,
   "id": "aa4dff01-5e56-4921-85e2-4979477a712c",
   "metadata": {},
   "outputs": [],
   "source": [
    "#replacing the missing values with the mean\n",
    "variables = ['Glucose','BloodPressure','SkinThickness','Insulin','BMI']\n",
    "for i in variables:\n",
    "    db[i].replace(0,db[i].mean(),inplace=True)\n",
    "\n",
    "#checking to make sure that incorrect values are replace\n",
    "for i in variables:\n",
    "    c = 0\n",
    "    for x in (db[i]):\n",
    "        if x == 0:\n",
    "            c = c + 1\n",
    "    print(i,c)"
   ]
  },
  {
   "cell_type": "code",
   "execution_count": null,
   "id": "0b814c9f-1529-489b-bbf5-d8c9aa4d3e3e",
   "metadata": {},
   "outputs": [],
   "source": [
    "#missing values\n",
    "db.info()"
   ]
  },
  {
   "cell_type": "code",
   "execution_count": null,
   "id": "85e16146-68f7-456c-8b23-2514250a1df1",
   "metadata": {},
   "outputs": [],
   "source": [
    "#checking descriptive statistics\n",
    "db.describe()"
   ]
  },
  {
   "cell_type": "code",
   "execution_count": null,
   "id": "e1d2baa3-8eaa-445e-9532-693245e33a62",
   "metadata": {},
   "outputs": [],
   "source": [
    "db.head()"
   ]
  },
  {
   "cell_type": "markdown",
   "id": "385d3344-438d-4ec3-b79d-92274c54e138",
   "metadata": {},
   "source": [
    "# EDA"
   ]
  },
  {
   "cell_type": "code",
   "execution_count": null,
   "id": "48965eae-0e98-44ca-892f-33acc921264a",
   "metadata": {},
   "outputs": [],
   "source": [
    "sns.catplot(x=\"Outcome\", y=\"Age\", kind=\"swarm\", data=db)"
   ]
  },
  {
   "cell_type": "markdown",
   "id": "8a985559-7cff-4c31-ac2f-512c174e7326",
   "metadata": {},
   "source": [
    "people aged 20-30 are least susceptible to diabetes"
   ]
  },
  {
   "cell_type": "code",
   "execution_count": null,
   "id": "4a39a42a-ac20-4dca-802b-ddedc287af3b",
   "metadata": {},
   "outputs": [],
   "source": [
    "fig,ax = plt.subplots(1,2,figsize=(15,5))\n",
    "sns.boxplot(x='Outcome',y='Pregnancies',data=db,ax=ax[0], color='red')\n",
    "sns.violinplot(x='Outcome',y='Pregnancies',data=db,ax=ax[1])"
   ]
  },
  {
   "cell_type": "code",
   "execution_count": null,
   "id": "aa4b180b-8cb7-40ce-87c4-8f53f7ff7999",
   "metadata": {},
   "outputs": [],
   "source": [
    "sns.boxplot(x='Outcome', y='Glucose', data=db).set_title('Glucose vs Diabetes')"
   ]
  },
  {
   "cell_type": "markdown",
   "id": "ec0bc0e0-a5bb-4e5a-9fe9-f30f36320e13",
   "metadata": {},
   "source": [
    " ### Model 1- Neural Network"
   ]
  },
  {
   "cell_type": "code",
   "execution_count": null,
   "id": "3afdc8bd-0dfb-464a-b4eb-e248bcba5e76",
   "metadata": {},
   "outputs": [],
   "source": [
    "from sklearn.model_selection import train_test_split\n",
    "from sklearn.metrics import classification_report, confusion_matrix, mean_squared_error, accuracy_score\n",
    "from sklearn.neural_network import MLPClassifier\n",
    "from sklearn.ensemble import RandomForestClassifier\n",
    "from sklearn.feature_selection import RFE\n",
    "from sklearn.preprocessing import MinMaxScaler"
   ]
  },
  {
   "cell_type": "code",
   "execution_count": null,
   "id": "f5a7fd44-b324-46d3-8c81-c7bc2b97598c",
   "metadata": {},
   "outputs": [],
   "source": [
    "db_nn = db[['Outcome','BMI','DiabetesPedigreeFunction', 'Glucose', 'Age', 'BloodPressure' ]]"
   ]
  },
  {
   "cell_type": "code",
   "execution_count": null,
   "id": "92cd2fa1-e6e7-418c-b5b6-42a92140c879",
   "metadata": {},
   "outputs": [],
   "source": [
    "x = db_nn.drop('Outcome', axis = 1)\n",
    "y = db_nn['Outcome']\n",
    "xtrain, xtest, ytrain, ytest = train_test_split(x, y, test_size = 0.1, random_state = 1)"
   ]
  },
  {
   "cell_type": "code",
   "execution_count": null,
   "id": "2c25b71f-e6c3-48aa-9cdf-65f76cffbeff",
   "metadata": {},
   "outputs": [],
   "source": [
    "mlp = MLPClassifier(hidden_layer_sizes = (20, 10),\n",
    "                    learning_rate_init = 0.001,\n",
    "                    max_iter = 1000,\n",
    "                    activation = 'relu',\n",
    "                    solver = 'sgd',\n",
    "                    batch_size = 50,\n",
    "                    random_state = 1)\n",
    "\n",
    "mlp.fit(xtrain, ytrain)\n",
    "pred = mlp.predict(xtest)"
   ]
  },
  {
   "cell_type": "code",
   "execution_count": null,
   "id": "b6654e39-f498-4cd2-bae1-162c6f10c5c1",
   "metadata": {},
   "outputs": [],
   "source": [
    "print(classification_report(ytest, pred,\n",
    "                           digits = 4,\n",
    "                           target_names = [\"0\", \"1\"],\n",
    "                           zero_division = 1))"
   ]
  },
  {
   "cell_type": "code",
   "execution_count": null,
   "id": "ccccee8a-6312-400b-a9e2-75720abda292",
   "metadata": {},
   "outputs": [],
   "source": [
    "cm = confusion_matrix(ytest, pred)\n",
    "sns.heatmap(cm, annot = True, fmt = \"d\", cmap = \"Blues\")\n",
    "plt.title('Confusion Matrix')\n",
    "plt.xlabel('Predicted')\n",
    "plt.ylabel('Actual')\n",
    "plt.show()"
   ]
  },
  {
   "cell_type": "code",
   "execution_count": null,
   "id": "aa9d4646-6c42-4c44-a796-d79ed28c79de",
   "metadata": {},
   "outputs": [],
   "source": [
    "plt.plot(mlp.loss_curve_)\n",
    "plt.title(\"MLP Training Loss over Epochs\")\n",
    "plt.xlabel('Epochs')\n",
    "plt.ylabel('Training Loss')\n",
    "plt.show()"
   ]
  },
  {
   "cell_type": "markdown",
   "id": "03ff22fd-d8fe-4572-abd4-2eab454636e9",
   "metadata": {},
   "source": [
    "### Model 2: Random Forest"
   ]
  },
  {
   "cell_type": "code",
   "execution_count": null,
   "id": "d1226a93-27e8-4352-919c-6f7a5c2b86c8",
   "metadata": {},
   "outputs": [],
   "source": [
    "x = db_nn.drop('Outcome', axis = 1)\n",
    "\n",
    "scaler = MinMaxScaler(feature_range = (0, 1))\n",
    "xresc = scaler.fit_transform(x)\n",
    "x = pd.DataFrame(data = xresc, columns = x.columns)\n",
    "\n",
    "y = db_nn['Outcome']\n",
    "\n",
    "xtrain, xtest, ytrain, ytest = train_test_split(x, y, test_size = 0.1, random_state = 1)"
   ]
  },
  {
   "cell_type": "code",
   "execution_count": null,
   "id": "63525e58-be9c-4926-8cbf-c9f4658b1075",
   "metadata": {},
   "outputs": [],
   "source": [
    "rf_clf = RandomForestClassifier(n_estimators = 200, criterion = 'entropy',\n",
    "                                min_samples_split = 18, random_state = 1)\n",
    "rf_clf.fit(xtrain, ytrain)"
   ]
  },
  {
   "cell_type": "code",
   "execution_count": null,
   "id": "32cb6aec-3d28-46f5-a480-affb1892c012",
   "metadata": {},
   "outputs": [],
   "source": [
    "pred = rf_clf.predict(xtest)"
   ]
  },
  {
   "cell_type": "code",
   "execution_count": null,
   "id": "8f9273ac-ebee-4ddd-9c81-c748ad65db07",
   "metadata": {},
   "outputs": [],
   "source": [
    "accuracy = accuracy_score(ytest, pred)\n",
    "print(f\"Accuracy: {accuracy:.4f}\")\n",
    "print(f'Training MSE: {round(mean_squared_error(rf_clf.predict(xtrain), ytrain), 4)}')\n",
    "print(f'Testing MSE: {round(mean_squared_error(pred, ytest), 4)}')"
   ]
  },
  {
   "cell_type": "code",
   "execution_count": null,
   "id": "43d7b2ef-6772-4211-a293-f4c63af629a3",
   "metadata": {},
   "outputs": [],
   "source": [
    "print(classification_report(ytest, pred,\n",
    "                            digits = 4,\n",
    "                            target_names = [\"0\", \"1\"],\n",
    "                            zero_division = 1))"
   ]
  },
  {
   "cell_type": "code",
   "execution_count": null,
   "id": "af49f8a5-3c56-4f8e-9f4a-79a0545acc89",
   "metadata": {},
   "outputs": [],
   "source": [
    "cm = confusion_matrix(ytest, pred)\n",
    "sns.heatmap(cm, annot = True, fmt = \"d\", cmap = \"Blues\")\n",
    "plt.title('Confusion Matrix')\n",
    "plt.xlabel('Predicted')\n",
    "plt.ylabel('Actual')\n",
    "plt.show()"
   ]
  },
  {
   "cell_type": "markdown",
   "id": "48866b1e",
   "metadata": {},
   "source": [
    "# XGBoost"
   ]
  },
  {
   "cell_type": "code",
   "execution_count": null,
   "id": "f6d88ad5",
   "metadata": {},
   "outputs": [],
   "source": [
    "import xgboost as xgb"
   ]
  },
  {
   "cell_type": "code",
   "execution_count": null,
   "id": "ab999035",
   "metadata": {},
   "outputs": [],
   "source": [
    "xgb_clf = xgb.XGBClassifier(n_estimators = 90, learning_rate = 0.35, \n",
    "                            max_depth = 3, seed = 1)\n",
    "xgb_clf.fit(xtrain, ytrain)"
   ]
  },
  {
   "cell_type": "code",
   "execution_count": null,
   "id": "3988e043",
   "metadata": {},
   "outputs": [],
   "source": [
    "pred = xgb_clf.predict(xtest)\n",
    "print(xtest.head(10))\n",
    "print(pred)"
   ]
  },
  {
   "cell_type": "code",
   "execution_count": null,
   "id": "00a26161",
   "metadata": {},
   "outputs": [],
   "source": [
    "print(f'Training MSE: {round(mean_squared_error(xgb_clf.predict(xtrain), ytrain), 4)}')\n",
    "print(f'Testing MSE: {round(mean_squared_error(pred, ytest), 4)}')"
   ]
  },
  {
   "cell_type": "code",
   "execution_count": null,
   "id": "c76c56b2",
   "metadata": {},
   "outputs": [],
   "source": [
    "print(classification_report(ytest, pred,\n",
    "                            digits = 4,\n",
    "                            target_names = [\"No Diabetes\", \"Diabetes\"],\n",
    "                            zero_division = 1))"
   ]
  },
  {
   "cell_type": "code",
   "execution_count": null,
   "id": "07583d6e",
   "metadata": {},
   "outputs": [],
   "source": [
    "cm = confusion_matrix(ytest, pred)\n",
    "sns.heatmap(cm, annot = True, fmt = \"d\", cmap = \"Blues\")\n",
    "plt.title('Confusion Matrix')\n",
    "plt.xlabel('Predicted')\n",
    "plt.ylabel('Actual')\n",
    "plt.show()\n",
    "\n",
    "acc = accuracy_score(ytest, pred)\n",
    "print(f\"Accuracy: {acc:.4f}\")"
   ]
  },
  {
   "cell_type": "markdown",
   "id": "0bd1187a",
   "metadata": {},
   "source": [
    "### Model #4"
   ]
  },
  {
   "cell_type": "code",
   "execution_count": null,
   "id": "1858ef3e",
   "metadata": {},
   "outputs": [],
   "source": [
    "from sklearn.linear_model import LogisticRegression"
   ]
  },
  {
   "cell_type": "code",
   "execution_count": null,
   "id": "97b31686",
   "metadata": {},
   "outputs": [],
   "source": [
    "model = LogisticRegression(random_state=42)\n",
    "model.fit(xtrain, ytrain)\n",
    "y_pred = model.predict(xtest)"
   ]
  },
  {
   "cell_type": "code",
   "execution_count": null,
   "id": "2f10904a",
   "metadata": {},
   "outputs": [],
   "source": [
    "accuracy = accuracy_score(ytest, y_pred)\n",
    "conf_matrix = confusion_matrix(ytest, y_pred)\n",
    "class_report = classification_report(ytest, y_pred)\n",
    "print(f'Accuracy: {accuracy:.2f}')\n",
    "print(conf_matrix)\n",
    "print('Classification Report:')\n",
    "print(class_report)"
   ]
  },
  {
   "cell_type": "code",
   "execution_count": null,
   "id": "65370e32",
   "metadata": {},
   "outputs": [],
   "source": [
    "plt.figure(figsize=(10, 7))\n",
    "sns.heatmap(conf_matrix, annot=True, fmt='d', cmap='Blues', xticklabels=['Predicted 0', 'Predicted 1'], yticklabels=['Actual 0', 'Actual 1'])\n",
    "plt.xlabel('Predicted')\n",
    "plt.ylabel('Actual')\n",
    "plt.title('Confusion Matrix')\n",
    "plt.show()"
   ]
  }
 ],
 "metadata": {
  "kernelspec": {
   "display_name": "Python 3 (ipykernel)",
   "language": "python",
   "name": "python3"
  },
  "language_info": {
   "codemirror_mode": {
    "name": "ipython",
    "version": 3
   },
   "file_extension": ".py",
   "mimetype": "text/x-python",
   "name": "python",
   "nbconvert_exporter": "python",
   "pygments_lexer": "ipython3",
   "version": "3.12.3"
  }
 },
 "nbformat": 4,
 "nbformat_minor": 5
}
